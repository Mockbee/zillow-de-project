{
 "cells": [
  {
   "cell_type": "code",
   "execution_count": 0,
   "metadata": {
    "application/vnd.databricks.v1+cell": {
     "cellMetadata": {
      "byteLimit": 2048000,
      "rowLimit": 10000
     },
     "inputWidgets": {},
     "nuid": "e219b182-650a-41e0-97cf-cc9cae28dde5",
     "showTitle": false,
     "tableResultSettingsMap": {},
     "title": ""
    }
   },
   "outputs": [],
   "source": [
    "catalog = dbutils.widgets.get('catalog')\n",
    "schema = dbutils.widgets.get('schema')"
   ]
  },
  {
   "cell_type": "code",
   "execution_count": 0,
   "metadata": {
    "application/vnd.databricks.v1+cell": {
     "cellMetadata": {
      "byteLimit": 2048000,
      "implicitDf": true,
      "rowLimit": 10000
     },
     "inputWidgets": {},
     "nuid": "21d920d0-ed33-4da0-9690-bb6301986296",
     "showTitle": false,
     "tableResultSettingsMap": {},
     "title": ""
    }
   },
   "outputs": [],
   "source": [
    "%sql\n",
    "MERGE INTO ${catalog}.${schema}.pricehistory_silver AS target\n",
    "USING (\n",
    "  SELECT *\n",
    "  FROM (\n",
    "    SELECT *, ROW_NUMBER() OVER (PARTITION BY zpid, date ORDER BY file_name DESC) as rn\n",
    "    FROM ${catalog}.${schema}.price_bronze\n",
    "  ) AS deduped\n",
    "  WHERE rn = 1\n",
    ") AS source\n",
    "ON target.zpid = source.zpid AND target.date = to_timestamp(source.date)\n",
    "\n",
    "WHEN MATCHED THEN\n",
    "  UPDATE SET\n",
    "    target.event = source.event,\n",
    "    target.price = source.price,\n",
    "    target.priceChangeRate = source.priceChangeRate,\n",
    "    target.pricePerSquareFoot = source.pricePerSquareFoot,\n",
    "    target.file_name = source.file_name,\n",
    "    target.Md5_hash = md5(concat_ws('', source.zpid, to_timestamp(source.date), source.event, source.price, source.priceChangeRate, source.pricePerSquareFoot, source.file_name))\n",
    "\n",
    "WHEN NOT MATCHED THEN\n",
    "  INSERT (zpid, date, event, price, priceChangeRate, pricePerSquareFoot, file_name, Md5_hash)\n",
    "  VALUES (\n",
    "    source.zpid,\n",
    "    to_timestamp(source.date),\n",
    "    source.event,\n",
    "    source.price,\n",
    "    source.priceChangeRate,\n",
    "    source.pricePerSquareFoot,\n",
    "    source.file_name,\n",
    "    md5(concat_ws('', source.zpid, to_timestamp(source.date), source.event, source.price, source.priceChangeRate, source.pricePerSquareFoot, source.file_name))\n",
    "  )\n"
   ]
  },
  {
   "cell_type": "code",
   "execution_count": 0,
   "metadata": {
    "application/vnd.databricks.v1+cell": {
     "cellMetadata": {
      "byteLimit": 2048000,
      "implicitDf": true,
      "rowLimit": 10000
     },
     "inputWidgets": {},
     "nuid": "b498648c-a568-4149-b5b5-064b27368545",
     "showTitle": false,
     "tableResultSettingsMap": {},
     "title": ""
    }
   },
   "outputs": [],
   "source": [
    "%sql\n",
    "select * from ${catalog}.${schema}.pricehistory_silver"
   ]
  }
 ],
 "metadata": {
  "application/vnd.databricks.v1+notebook": {
   "computePreferences": null,
   "dashboards": [],
   "environmentMetadata": {
    "base_environment": "",
    "environment_version": "2"
   },
   "inputWidgetPreferences": null,
   "language": "python",
   "notebookMetadata": {
    "mostRecentlyExecutedCommandWithImplicitDF": {
     "commandId": 5983804753792595,
     "dataframes": [
      "_sqldf"
     ]
    },
    "pythonIndentUnit": 4
   },
   "notebookName": "Silver Layer PriceHistory",
   "widgets": {
    "catalog": {
     "currentValue": "zillow",
     "nuid": "18293823-8d54-451f-b1e5-47cc6e61b1a8",
     "typedWidgetInfo": {
      "autoCreated": false,
      "defaultValue": "",
      "label": "",
      "name": "catalog",
      "options": {
       "widgetDisplayType": "Text",
       "validationRegex": null
      },
      "parameterDataType": "String"
     },
     "widgetInfo": {
      "widgetType": "text",
      "defaultValue": "",
      "label": "",
      "name": "catalog",
      "options": {
       "widgetType": "text",
       "autoCreated": false,
       "validationRegex": null
      }
     }
    },
    "schema": {
     "currentValue": "pricehistory",
     "nuid": "3e102fca-92fe-4394-88c9-fa37f89d8ba4",
     "typedWidgetInfo": {
      "autoCreated": false,
      "defaultValue": "",
      "label": "",
      "name": "schema",
      "options": {
       "widgetDisplayType": "Text",
       "validationRegex": null
      },
      "parameterDataType": "String"
     },
     "widgetInfo": {
      "widgetType": "text",
      "defaultValue": "",
      "label": "",
      "name": "schema",
      "options": {
       "widgetType": "text",
       "autoCreated": false,
       "validationRegex": null
      }
     }
    }
   }
  },
  "language_info": {
   "name": "python"
  }
 },
 "nbformat": 4,
 "nbformat_minor": 0
}
