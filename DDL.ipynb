{
 "cells": [
  {
   "cell_type": "code",
   "execution_count": 0,
   "metadata": {
    "application/vnd.databricks.v1+cell": {
     "cellMetadata": {
      "byteLimit": 2048000,
      "implicitDf": true,
      "rowLimit": 10000
     },
     "inputWidgets": {},
     "nuid": "2930387b-e977-4953-8668-2d63d81c2263",
     "showTitle": false,
     "tableResultSettingsMap": {},
     "title": ""
    }
   },
   "outputs": [],
   "source": [
    "%sql\n",
    "CREATE OR REPLACE TABLE zillow.propertyextended.property_silver\n",
    "(\n",
    "  zpid int,\n",
    "  address string,\n",
    "  city string,\n",
    "  state string,\n",
    "  zipcode int,\n",
    "  latitude double,\n",
    "  longitude double,\n",
    "  price int,\n",
    "  zestimate int,\n",
    "  bedrooms int,\n",
    "  bathrooms int,\n",
    "  livingAreaValue int,\n",
    "  yearBuilt int,\n",
    "  homeType string,\n",
    "  description string,\n",
    "  ImgSrc string,\n",
    "  agent_name string,\n",
    "  agent_phone string,\n",
    "  datePosted string,\n",
    "  DateSold string,\n",
    "  file_name STRING,\n",
    "  Md5_hash STRING)"
   ]
  },
  {
   "cell_type": "code",
   "execution_count": 0,
   "metadata": {
    "application/vnd.databricks.v1+cell": {
     "cellMetadata": {
      "byteLimit": 2048000,
      "implicitDf": true,
      "rowLimit": 10000
     },
     "inputWidgets": {},
     "nuid": "d765061d-385e-4780-b4cc-50ae27e8f188",
     "showTitle": false,
     "tableResultSettingsMap": {},
     "title": ""
    }
   },
   "outputs": [],
   "source": [
    "%sql\n",
    "CREATE OR REPLACE TABLE zillow.pricehistory.pricehistory_silver\n",
    "(\n",
    "    zpid int,\n",
    "    date TIMESTAMP,\n",
    "    event string,\n",
    "    price int,\n",
    "    priceChangeRate double,\n",
    "    pricePerSquareFoot double,\n",
    "    file_name STRING,\n",
    "    Md5_hash STRING\n",
    ")"
   ]
  },
  {
   "cell_type": "code",
   "execution_count": 0,
   "metadata": {
    "application/vnd.databricks.v1+cell": {
     "cellMetadata": {
      "byteLimit": 2048000,
      "implicitDf": true,
      "rowLimit": 10000
     },
     "inputWidgets": {},
     "nuid": "5a18b5df-7ee1-4dd3-9991-d139be12facf",
     "showTitle": false,
     "tableResultSettingsMap": {},
     "title": ""
    }
   },
   "outputs": [],
   "source": [
    "%sql\n",
    "CREATE OR REPLACE TABLE zillow.taxhistory.taxhistory_silver\n",
    "(\n",
    "  zpid int,\n",
    "  year BIGINT,\n",
    "  value double,\n",
    "  taxPaid double,\n",
    "  valueIncreaseRate double,\n",
    "  taxIncreaseRate DOUBLE,\n",
    "  file_name string,\n",
    "  Md5_hash string\n",
    ")"
   ]
  },
  {
   "cell_type": "code",
   "execution_count": 0,
   "metadata": {
    "application/vnd.databricks.v1+cell": {
     "cellMetadata": {
      "byteLimit": 2048000,
      "implicitDf": true,
      "rowLimit": 10000
     },
     "inputWidgets": {},
     "nuid": "761e2f49-36f2-4b83-8a31-2f3d222fbfd9",
     "showTitle": false,
     "tableResultSettingsMap": {},
     "title": ""
    }
   },
   "outputs": [],
   "source": [
    "%sql\n",
    "drop table zillow.pricehistory.pricehistory_silver"
   ]
  },
  {
   "cell_type": "code",
   "execution_count": 0,
   "metadata": {
    "application/vnd.databricks.v1+cell": {
     "cellMetadata": {
      "byteLimit": 2048000,
      "implicitDf": true,
      "rowLimit": 10000
     },
     "inputWidgets": {},
     "nuid": "386eb7e3-f638-42b6-899a-b75aecb84fd2",
     "showTitle": false,
     "tableResultSettingsMap": {},
     "title": ""
    }
   },
   "outputs": [],
   "source": [
    "%sql\n",
    "CREATE OR REPLACE TABLE zillow.propertyextended.job_control (\n",
    "    job_id BIGINT GENERATED ALWAYS AS IDENTITY,\n",
    "    job_name STRING,\n",
    "    job_status STRING,\n",
    "    job_created_date DATE,\n",
    "    start_time TIMESTAMP,\n",
    "    end_time TIMESTAMP\n",
    ")\n"
   ]
  },
  {
   "cell_type": "code",
   "execution_count": 0,
   "metadata": {
    "application/vnd.databricks.v1+cell": {
     "cellMetadata": {
      "byteLimit": 2048000,
      "implicitDf": true,
      "rowLimit": 10000
     },
     "inputWidgets": {},
     "nuid": "4037c7e0-a41a-4072-9cd5-a2db9cd5712f",
     "showTitle": false,
     "tableResultSettingsMap": {},
     "title": ""
    }
   },
   "outputs": [],
   "source": [
    "%sql\n",
    "CREATE OR REPLACE TABLE zillow.taxhistory.job_control (\n",
    "    job_id BIGINT GENERATED ALWAYS AS IDENTITY,\n",
    "    job_name STRING,\n",
    "    job_status STRING,\n",
    "    job_created_date DATE,\n",
    "    start_time TIMESTAMP,\n",
    "    end_time TIMESTAMP\n",
    ")\n"
   ]
  }
 ],
 "metadata": {
  "application/vnd.databricks.v1+notebook": {
   "computePreferences": null,
   "dashboards": [],
   "environmentMetadata": {
    "base_environment": "",
    "environment_version": "2"
   },
   "inputWidgetPreferences": null,
   "language": "python",
   "notebookMetadata": {
    "mostRecentlyExecutedCommandWithImplicitDF": {
     "commandId": 8371218364835654,
     "dataframes": [
      "_sqldf"
     ]
    },
    "pythonIndentUnit": 4
   },
   "notebookName": "DDL",
   "widgets": {}
  },
  "language_info": {
   "name": "python"
  }
 },
 "nbformat": 4,
 "nbformat_minor": 0
}
