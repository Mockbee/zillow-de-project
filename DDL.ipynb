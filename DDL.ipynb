{
 "cells": [
  {
   "cell_type": "code",
   "execution_count": 0,
   "metadata": {
    "application/vnd.databricks.v1+cell": {
     "cellMetadata": {
      "byteLimit": 2048000,
      "implicitDf": true,
      "rowLimit": 10000
     },
     "inputWidgets": {},
     "nuid": "2930387b-e977-4953-8668-2d63d81c2263",
     "showTitle": false,
     "tableResultSettingsMap": {},
     "title": ""
    }
   },
   "outputs": [],
   "source": [
    "%sql\n",
    "CREATE OR REPLACE TABLE zillow.propertyextended.property_silver\n",
    "(\n",
    "  zpid int,\n",
    "  address string,\n",
    "  city string,\n",
    "  state string,\n",
    "  zipcode int,\n",
    "  latitude double,\n",
    "  longitude double,\n",
    "  price int,\n",
    "  zestimate int,\n",
    "  bedrooms int,\n",
    "  bathrooms int,\n",
    "  livingAreaValue int,\n",
    "  yearBuilt int,\n",
    "  homeType string,\n",
    "  description string,\n",
    "  ImgSrc string,\n",
    "  agent_name string,\n",
    "  agent_phone string,\n",
    "  datePosted string,\n",
    "  DateSold string,\n",
    "  file_name STRING,\n",
    "  Md5_hash STRING)"
   ]
  },
  {
   "cell_type": "code",
   "execution_count": 0,
   "metadata": {
    "application/vnd.databricks.v1+cell": {
     "cellMetadata": {
      "byteLimit": 2048000,
      "implicitDf": true,
      "rowLimit": 10000
     },
     "inputWidgets": {},
     "nuid": "d765061d-385e-4780-b4cc-50ae27e8f188",
     "showTitle": false,
     "tableResultSettingsMap": {},
     "title": ""
    }
   },
   "outputs": [],
   "source": [
    "%sql\n",
    "CREATE OR REPLACE TABLE zillow.pricehistory.pricehistory_silver\n",
    "(\n",
    "    zpid int,\n",
    "    date TIMESTAMP,\n",
    "    event string,\n",
    "    price int,\n",
    "    priceChangeRate double,\n",
    "    pricePerSquareFoot double,\n",
    "    file_name STRING,\n",
    "    Md5_hash STRING\n",
    ")"
   ]
  },
  {
   "cell_type": "code",
   "execution_count": 0,
   "metadata": {
    "application/vnd.databricks.v1+cell": {
     "cellMetadata": {
      "byteLimit": 2048000,
      "implicitDf": true,
      "rowLimit": 10000
     },
     "inputWidgets": {},
     "nuid": "5a18b5df-7ee1-4dd3-9991-d139be12facf",
     "showTitle": false,
     "tableResultSettingsMap": {},
     "title": ""
    }
   },
   "outputs": [],
   "source": [
    "%sql\n",
    "CREATE OR REPLACE TABLE zillow.taxhistory.taxhistory_silver\n",
    "(\n",
    "  zpid int,\n",
    "  year BIGINT,\n",
    "  value double,\n",
    "  taxPaid double,\n",
    "  valueIncreaseRate double,\n",
    "  taxIncreaseRate DOUBLE,\n",
    "  file_name string,\n",
    "  Md5_hash string\n",
    ")"
   ]
  },
  {
   "cell_type": "code",
   "execution_count": 0,
   "metadata": {
    "application/vnd.databricks.v1+cell": {
     "cellMetadata": {
      "byteLimit": 2048000,
      "implicitDf": true,
      "rowLimit": 10000
     },
     "inputWidgets": {},
     "nuid": "761e2f49-36f2-4b83-8a31-2f3d222fbfd9",
     "showTitle": false,
     "tableResultSettingsMap": {},
     "title": ""
    }
   },
   "outputs": [],
   "source": [
    "%sql\n",
    "drop table zillow.pricehistory.pricehistory_silver"
   ]
  }
 ],
 "metadata": {
  "application/vnd.databricks.v1+notebook": {
   "computePreferences": null,
   "dashboards": [],
   "environmentMetadata": {
    "base_environment": "",
    "environment_version": "2"
   },
   "inputWidgetPreferences": null,
   "language": "python",
   "notebookMetadata": {
    "mostRecentlyExecutedCommandWithImplicitDF": {
     "commandId": 8988156465587049,
     "dataframes": [
      "_sqldf"
     ]
    },
    "pythonIndentUnit": 4
   },
   "notebookName": "DDL",
   "widgets": {}
  },
  "language_info": {
   "name": "python"
  }
 },
 "nbformat": 4,
 "nbformat_minor": 0
}
