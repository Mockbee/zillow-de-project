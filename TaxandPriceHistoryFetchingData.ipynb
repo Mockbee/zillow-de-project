{
 "cells": [
  {
   "cell_type": "code",
   "execution_count": 0,
   "metadata": {
    "application/vnd.databricks.v1+cell": {
     "cellMetadata": {
      "byteLimit": 2048000,
      "rowLimit": 10000
     },
     "inputWidgets": {},
     "nuid": "b6f9a290-f6ae-464e-afba-37a022147343",
     "showTitle": false,
     "tableResultSettingsMap": {},
     "title": ""
    }
   },
   "outputs": [],
   "source": [
    "import requests\n",
    "import json\n",
    "import time\n",
    "from datetime import datetime\n",
    "from typing import Dict, Any, List\n",
    "\n",
    "#  API Setup\n",
    "api_key = dbutils.secrets.get(scope=\"zillowsecrets\", key=\"rapidapi_key\")\n",
    "headers = {\n",
    "    \"x-rapidapi-key\": api_key,\n",
    "    \"x-rapidapi-host\": \"zillow-com1.p.rapidapi.com\"\n",
    "}\n",
    "url = \"https://zillow-com1.p.rapidapi.com/priceAndTaxHistory\"\n",
    "\n",
    "#  ZPID List\n",
    "zpid_list = [\n",
    "    20530375, 21305363, 20805648, 20385314, 89144774, 20157954, 19954222, 82582423,\n",
    "    19972775, 20083366, 19942282, 250224427, 20112609, 447566500, 20573654, 402663195,\n",
    "    136709605, 20529056, 19899526, 136702401, 20751476, 20779023, 20524417, 95637520,\n",
    "    95547747, 19978675, 20802440, 20604130, 19963489, 447478820, 20455120, 79797561,\n",
    "    20169079, 20637164, 20741471, 20529664, 20125341, 135446642, 20032611, 20809679,\n",
    "    20526802\n",
    "]\n",
    "\n",
    "#  Storage Containers\n",
    "price_history_data: List[Dict[str, Any]] = []\n",
    "tax_history_data: List[Dict[str, Any]] = []\n",
    "\n",
    "# Helper Functions\n",
    "def extract_price_history(zpid: int, history: List[Dict[str, Any]]) -> List[Dict[str, Any]]:\n",
    "    return [\n",
    "        {\n",
    "            \"zpid\": zpid,\n",
    "            \"date\": event.get(\"date\"),\n",
    "            \"event\": event.get(\"event\"),\n",
    "            \"price\": event.get(\"price\"),\n",
    "            \"priceChangeRate\": event.get(\"priceChangeRate\"),\n",
    "            \"pricePerSquareFoot\": event.get(\"pricePerSquareFoot\")\n",
    "        }\n",
    "        for event in history\n",
    "    ]\n",
    "\n",
    "def extract_tax_history(zpid: int, tax_data: List[Dict[str, Any]]) -> List[Dict[str, Any]]:\n",
    "    return [\n",
    "        {\n",
    "            \"zpid\": zpid,\n",
    "            \"year\": tax.get(\"time\"),\n",
    "            \"value\": tax.get(\"value\"),\n",
    "            \"taxPaid\": tax.get(\"taxPaid\"),\n",
    "            \"valueIncreaseRate\": tax.get(\"valueIncreaseRate\"),\n",
    "            \"taxIncreaseRate\": tax.get(\"taxIncreaseRate\")\n",
    "        }\n",
    "        for tax in tax_data\n",
    "    ]\n",
    "\n",
    "#  Main Loop\n",
    "for zpid in zpid_list:\n",
    "    try:\n",
    "        print(f\"🔍 Fetching data for ZPID: {zpid}\")\n",
    "        response = requests.get(url, headers=headers, params={\"zpid\": zpid})\n",
    "        response.raise_for_status()\n",
    "\n",
    "        if response.status_code == 200:\n",
    "            data = response.json()\n",
    "\n",
    "            # Extract and append price and tax history\n",
    "            price_history_data.extend(extract_price_history(zpid, data.get(\"priceHistory\", [])))\n",
    "            tax_history_data.extend(extract_tax_history(zpid, data.get(\"taxHistory\", [])))\n",
    "\n",
    "        else:\n",
    "            print(f\" Non-200 response for ZPID {zpid}: {response.status_code}\")\n",
    "\n",
    "    except Exception as e:\n",
    "        print(f\" Error retrieving data for ZPID {zpid}: {e}\")\n",
    "\n",
    "    time.sleep(6)  # Respect API rate limits\n",
    "\n",
    "\n",
    "print(\"\\nPrice History Sample:\")\n",
    "print(json.dumps(price_history_data[:3], indent=2))\n",
    "\n",
    "print(\"\\n Tax History Sample:\")\n",
    "print(json.dumps(tax_history_data[:3], indent=2))"
   ]
  },
  {
   "cell_type": "code",
   "execution_count": 0,
   "metadata": {
    "application/vnd.databricks.v1+cell": {
     "cellMetadata": {
      "byteLimit": 2048000,
      "rowLimit": 10000
     },
     "inputWidgets": {},
     "nuid": "dcbf3470-1d00-454f-ab5c-d558a4182dd5",
     "showTitle": false,
     "tableResultSettingsMap": {},
     "title": ""
    }
   },
   "outputs": [],
   "source": [
    "from datetime import datetime\n",
    "import json\n",
    "\n",
    "# Widget inputs\n",
    "container_name = dbutils.widgets.get(\"container_name\")\n",
    "storage_account_name = dbutils.widgets.get(\"storage_account_name\")\n",
    "base_folder_name = dbutils.widgets.get(\"base_folder_name\")\n",
    "storage_account_key = dbutils.secrets.get(scope = \"zillowsecrets\",key=\"storage_account_key\")\n",
    "base_folder_name = dbutils.widgets.get(\"base_folder_name\")\n",
    "main_folder_price = dbutils.widgets.get(\"main_folder_price\")\n",
    "main_folder_tax = dbutils.widgets.get(\"main_folder_tax\")\n",
    "\n",
    "# Configure access\n",
    "spark.conf.set(\n",
    "    f\"fs.azure.account.key.{storage_account_name}.dfs.core.windows.net\",\n",
    "    storage_account_key\n",
    ")\n",
    "\n",
    "# Construct base path\n",
    "folder_path_tax = f\"abfss://{container_name}@{storage_account_name}.dfs.core.windows.net/{base_folder_name}/{main_folder_tax}\" \n",
    "folder_path_price = f\"abfss://{container_name}@{storage_account_name}.dfs.core.windows.net/{base_folder_name}/{main_folder_price}\"\n",
    "\n",
    "\n",
    "timestamp = datetime.now().strftime(\"%Y-%m-%d_%H-%M-%S\")\n",
    "price_file_name = f\"{timestamp}.json\"\n",
    "tax_file_name = f\"{timestamp}.json\"\n",
    "\n",
    "# Convert to JSON string\n",
    "\n",
    "\n",
    "# Write JSON to ADLS Gen2\n",
    "price_file_path = f\"{folder_path_price}/{price_file_name}\"\n",
    "tax_file_path = f\"{folder_path_tax}/{tax_file_name}\"\n",
    "# Convert to JSON string\n",
    "price_json_data = json.dumps(price_history_data, indent=2)\n",
    "tax_json_data = json.dumps(tax_history_data, indent=2)\n",
    "dbutils.fs.put(price_file_path, price_json_data, overwrite=True)\n",
    "dbutils.fs.put(tax_file_path, tax_json_data, overwrite=True)\n",
    "\n",
    "\n",
    "display(f\" Price history JSON written to: {price_file_path}\")\n",
    "display(f\" Tax history JSON written to: {tax_file_path}\")"
   ]
  },
  {
   "cell_type": "code",
   "execution_count": 0,
   "metadata": {
    "application/vnd.databricks.v1+cell": {
     "cellMetadata": {},
     "inputWidgets": {},
     "nuid": "2f9e47ca-dd02-4d3a-9961-38e3b9de937c",
     "showTitle": false,
     "tableResultSettingsMap": {},
     "title": ""
    }
   },
   "outputs": [],
   "source": []
  }
 ],
 "metadata": {
  "application/vnd.databricks.v1+notebook": {
   "computePreferences": null,
   "dashboards": [],
   "environmentMetadata": {
    "base_environment": "",
    "environment_version": "2"
   },
   "inputWidgetPreferences": null,
   "language": "python",
   "notebookMetadata": {
    "pythonIndentUnit": 4
   },
   "notebookName": "TaxandPriceHistoryFetchingData",
   "widgets": {
    "base_folder_name": {
     "currentValue": "raw_data",
     "nuid": "c127f0ad-17f6-49b3-b9e3-b2d7d91e1648",
     "typedWidgetInfo": {
      "autoCreated": false,
      "defaultValue": "",
      "label": "",
      "name": "base_folder_name",
      "options": {
       "widgetDisplayType": "Text",
       "validationRegex": null
      },
      "parameterDataType": "String"
     },
     "widgetInfo": {
      "widgetType": "text",
      "defaultValue": "",
      "label": "",
      "name": "base_folder_name",
      "options": {
       "widgetType": "text",
       "autoCreated": false,
       "validationRegex": null
      }
     }
    },
    "container_name": {
     "currentValue": "zillowcon",
     "nuid": "43b82c9a-6362-40fc-b145-e7fb057aae38",
     "typedWidgetInfo": {
      "autoCreated": false,
      "defaultValue": "",
      "label": "",
      "name": "container_name",
      "options": {
       "widgetDisplayType": "Text",
       "validationRegex": null
      },
      "parameterDataType": "String"
     },
     "widgetInfo": {
      "widgetType": "text",
      "defaultValue": "",
      "label": "",
      "name": "container_name",
      "options": {
       "widgetType": "text",
       "autoCreated": false,
       "validationRegex": null
      }
     }
    },
    "main_folder_price": {
     "currentValue": "PriceHistory",
     "nuid": "e806ed47-b5ec-4fa4-90c5-c890730e57d9",
     "typedWidgetInfo": {
      "autoCreated": false,
      "defaultValue": "",
      "label": "",
      "name": "main_folder_price",
      "options": {
       "widgetDisplayType": "Text",
       "validationRegex": null
      },
      "parameterDataType": "String"
     },
     "widgetInfo": {
      "widgetType": "text",
      "defaultValue": "",
      "label": "",
      "name": "main_folder_price",
      "options": {
       "widgetType": "text",
       "autoCreated": false,
       "validationRegex": null
      }
     }
    },
    "main_folder_tax": {
     "currentValue": "TaxHistory",
     "nuid": "4175186f-2a82-4651-a124-c033af41ac88",
     "typedWidgetInfo": {
      "autoCreated": false,
      "defaultValue": "",
      "label": "",
      "name": "main_folder_tax",
      "options": {
       "widgetDisplayType": "Text",
       "validationRegex": null
      },
      "parameterDataType": "String"
     },
     "widgetInfo": {
      "widgetType": "text",
      "defaultValue": "",
      "label": "",
      "name": "main_folder_tax",
      "options": {
       "widgetType": "text",
       "autoCreated": false,
       "validationRegex": null
      }
     }
    },
    "storage_account_name": {
     "currentValue": "zillowapi",
     "nuid": "f5d32d6a-5514-4ebc-8da2-c6cdcefa30ed",
     "typedWidgetInfo": {
      "autoCreated": false,
      "defaultValue": "",
      "label": "",
      "name": "storage_account_name",
      "options": {
       "widgetDisplayType": "Text",
       "validationRegex": null
      },
      "parameterDataType": "String"
     },
     "widgetInfo": {
      "widgetType": "text",
      "defaultValue": "",
      "label": "",
      "name": "storage_account_name",
      "options": {
       "widgetType": "text",
       "autoCreated": false,
       "validationRegex": null
      }
     }
    }
   }
  },
  "language_info": {
   "name": "python"
  }
 },
 "nbformat": 4,
 "nbformat_minor": 0
}
