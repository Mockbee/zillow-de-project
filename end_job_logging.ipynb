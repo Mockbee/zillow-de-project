{
 "cells": [
  {
   "cell_type": "code",
   "execution_count": 0,
   "metadata": {
    "application/vnd.databricks.v1+cell": {
     "cellMetadata": {
      "byteLimit": 2048000,
      "rowLimit": 10000
     },
     "inputWidgets": {},
     "nuid": "19843b5f-2aa3-40c7-aa2f-1e32ff674af9",
     "showTitle": false,
     "tableResultSettingsMap": {},
     "title": ""
    }
   },
   "outputs": [],
   "source": [
    "# Fetch job_id from start_job_logging task\n",
    "job_id = dbutils.jobs.taskValues.get(taskKey=\"job_logging_start\", key=\"job_id\", debugValue=\"default_job_id\")\n",
    "\n",
    "# You could also capture error and status from another task here\n",
    "job_status = \"Succeeded\"  # Or \"Failed\"\n",
    "error_message = None      # Replace with actual error if applicable\n",
    "\n",
    "display(job_id)\n"
   ]
  },
  {
   "cell_type": "code",
   "execution_count": 0,
   "metadata": {
    "application/vnd.databricks.v1+cell": {
     "cellMetadata": {
      "byteLimit": 2048000,
      "rowLimit": 10000
     },
     "inputWidgets": {},
     "nuid": "d51ddb95-f86a-4a21-99c3-dd47d5141e47",
     "showTitle": false,
     "tableResultSettingsMap": {},
     "title": ""
    }
   },
   "outputs": [],
   "source": [
    "# Safely escape strings for SQL\n",
    "error_msg_sql = f\"'{error_message}'\" if error_message else \"NULL\"\n",
    "\n",
    "# Run the update\n",
    "spark.sql(f\"\"\"\n",
    "    UPDATE zillow.propertyextended.job_control\n",
    "    SET\n",
    "        job_status = '{job_status}',\n",
    "        end_time = current_timestamp(),\n",
    "        error_message = {error_msg_sql}\n",
    "    WHERE\n",
    "        job_id = '{job_id}'\n",
    "\"\"\")"
   ]
  },
  {
   "cell_type": "code",
   "execution_count": 0,
   "metadata": {
    "application/vnd.databricks.v1+cell": {
     "cellMetadata": {
      "byteLimit": 2048000,
      "implicitDf": true,
      "rowLimit": 10000
     },
     "inputWidgets": {},
     "nuid": "caeafa29-d67a-43fb-8836-86a74e1016ef",
     "showTitle": false,
     "tableResultSettingsMap": {},
     "title": ""
    }
   },
   "outputs": [],
   "source": [
    "%sql\n",
    "select * from zillow.propertyextended.job_control"
   ]
  }
 ],
 "metadata": {
  "application/vnd.databricks.v1+notebook": {
   "computePreferences": null,
   "dashboards": [],
   "environmentMetadata": {
    "base_environment": "",
    "environment_version": "2"
   },
   "inputWidgetPreferences": null,
   "language": "python",
   "notebookMetadata": {
    "mostRecentlyExecutedCommandWithImplicitDF": {
     "commandId": 7371323338483633,
     "dataframes": [
      "_sqldf"
     ]
    },
    "pythonIndentUnit": 4
   },
   "notebookName": "end_job_logging",
   "widgets": {}
  },
  "language_info": {
   "name": "python"
  }
 },
 "nbformat": 4,
 "nbformat_minor": 0
}
