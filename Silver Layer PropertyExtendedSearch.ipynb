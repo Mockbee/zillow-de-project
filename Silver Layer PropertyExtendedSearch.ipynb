{
 "cells": [
  {
   "cell_type": "code",
   "execution_count": 0,
   "metadata": {
    "application/vnd.databricks.v1+cell": {
     "cellMetadata": {
      "byteLimit": 2048000,
      "rowLimit": 10000
     },
     "inputWidgets": {},
     "nuid": "bd248554-2647-4555-aa17-a67e9a58d63f",
     "showTitle": false,
     "tableResultSettingsMap": {},
     "title": ""
    }
   },
   "outputs": [],
   "source": [
    "catalog = dbutils.widgets.get(\"catalog\")\n",
    "schema = dbutils.widgets.get(\"schema\")"
   ]
  },
  {
   "cell_type": "code",
   "execution_count": 0,
   "metadata": {
    "application/vnd.databricks.v1+cell": {
     "cellMetadata": {
      "byteLimit": 2048000,
      "implicitDf": true,
      "rowLimit": 10000
     },
     "inputWidgets": {},
     "nuid": "74c7296d-1f2a-42d6-ae45-539d83ffb263",
     "showTitle": false,
     "tableResultSettingsMap": {},
     "title": ""
    }
   },
   "outputs": [],
   "source": [
    "%sql\n",
    "MERGE INTO ${catalog}.${schema}.property_silver AS target\n",
    "USING (\n",
    "  SELECT *\n",
    "  FROM (\n",
    "    SELECT *, ROW_NUMBER() OVER (PARTITION BY zpid ORDER BY file_name DESC) AS rn\n",
    "    FROM ${catalog}.${schema}.property_bronze\n",
    "  ) AS deduped\n",
    "  WHERE rn = 1\n",
    ") AS source\n",
    "ON target.zpid = source.zpid\n",
    "\n",
    "WHEN MATCHED THEN\n",
    "  UPDATE SET\n",
    "    target.address = source.address,\n",
    "    target.city = source.city,\n",
    "    target.state = source.state,\n",
    "    target.zipcode = source.zipcode,\n",
    "    target.latitude = source.latitude,\n",
    "    target.longitude = source.longitude,\n",
    "    target.price = source.price,\n",
    "    target.zestimate = source.zestimate,\n",
    "    target.bedrooms = source.bedrooms,\n",
    "    target.bathrooms = source.bathrooms,\n",
    "    target.livingAreaValue = source.livingAreaValue,\n",
    "    target.yearBuilt = source.yearBuilt,\n",
    "    target.homeType = source.homeType,\n",
    "    target.description = source.description,\n",
    "    target.ImgSrc = source.ImgSrc,\n",
    "    target.agent_name = source.agent_name,\n",
    "    target.agent_phone = source.agent_phone,\n",
    "    target.datePosted = to_timestamp(source.datePosted),\n",
    "    target.dateSold = to_timestamp(source.dateSold),\n",
    "    target.file_name = source.file_name,\n",
    "    target.Md5_hash = md5(concat_ws('',source.zpid,source.address,\n",
    "      source.city, source.state, source.zipcode, source.latitude, source.longitude,\n",
    "      source.price, source.zestimate, source.bedrooms, source.bathrooms,\n",
    "      source.livingAreaValue, source.yearBuilt, source.homeType, source.description,\n",
    "      source.ImgSrc, source.agent_name, source.agent_phone,\n",
    "      to_timestamp(source.datePosted), to_timestamp(source.dateSold), source.file_name))\n",
    "\n",
    "WHEN NOT MATCHED THEN \n",
    "  INSERT (zpid, address, city, state, zipcode, latitude, longitude, price, zestimate,\n",
    "    bedrooms, bathrooms, livingAreaValue, yearBuilt, homeType, description,\n",
    "    ImgSrc, agent_name, agent_phone, datePosted, dateSold, file_name, Md5_hash)\n",
    "  VALUES (\n",
    "    source.zpid, source.address, source.city, source.state, source.zipcode,\n",
    "    source.latitude, source.longitude, source.price, source.zestimate,\n",
    "    source.bedrooms, source.bathrooms, source.livingAreaValue, source.yearBuilt,\n",
    "    source.homeType, source.description, source.ImgSrc, source.agent_name,\n",
    "    source.agent_phone, to_timestamp(source.datePosted), to_timestamp(source.dateSold),\n",
    "    source.file_name,\n",
    "    md5(concat_ws('',source.zpid,source.address,source.city,source.state,source.zipcode,\n",
    "      source.latitude,source.longitude,source.price,source.zestimate,source.bedrooms,\n",
    "      source.bathrooms,source.livingAreaValue,source.yearBuilt,source.homeType,\n",
    "      source.description,source.ImgSrc,source.agent_name,source.agent_phone,\n",
    "      to_timestamp(source.datePosted),to_timestamp(source.dateSold),source.file_name))\n",
    "  );\n"
   ]
  },
  {
   "cell_type": "code",
   "execution_count": 0,
   "metadata": {
    "application/vnd.databricks.v1+cell": {
     "cellMetadata": {
      "byteLimit": 2048000,
      "implicitDf": true,
      "rowLimit": 10000
     },
     "inputWidgets": {},
     "nuid": "99f02351-5db3-4f01-92f7-8bec18cebd8c",
     "showTitle": false,
     "tableResultSettingsMap": {},
     "title": ""
    }
   },
   "outputs": [],
   "source": [
    "%sql\n",
    "select * from ${catalog}.${schema}.property_silver"
   ]
  },
  {
   "cell_type": "code",
   "execution_count": 0,
   "metadata": {
    "application/vnd.databricks.v1+cell": {
     "cellMetadata": {},
     "inputWidgets": {},
     "nuid": "0cec739d-06aa-4ebf-8334-e072a70e400c",
     "showTitle": false,
     "tableResultSettingsMap": {},
     "title": ""
    }
   },
   "outputs": [],
   "source": [
    "dbutils.jobs.taskValues.set(key=\"error\", value=str(e))  # 'e' is the exception"
   ]
  }
 ],
 "metadata": {
  "application/vnd.databricks.v1+notebook": {
   "computePreferences": null,
   "dashboards": [],
   "environmentMetadata": {
    "base_environment": "",
    "environment_version": "2"
   },
   "inputWidgetPreferences": null,
   "language": "python",
   "notebookMetadata": {
    "mostRecentlyExecutedCommandWithImplicitDF": {
     "commandId": 4807279632752301,
     "dataframes": [
      "_sqldf"
     ]
    },
    "pythonIndentUnit": 4
   },
   "notebookName": "Silver Layer PropertyExtendedSearch",
   "widgets": {
    "catalog": {
     "currentValue": "zillow",
     "nuid": "7afc2271-be98-4746-ba2a-c4d5199d0f44",
     "typedWidgetInfo": {
      "autoCreated": false,
      "defaultValue": "",
      "label": "",
      "name": "catalog",
      "options": {
       "widgetDisplayType": "Text",
       "validationRegex": null
      },
      "parameterDataType": "String"
     },
     "widgetInfo": {
      "widgetType": "text",
      "defaultValue": "",
      "label": "",
      "name": "catalog",
      "options": {
       "widgetType": "text",
       "autoCreated": false,
       "validationRegex": null
      }
     }
    },
    "schema": {
     "currentValue": "propertyextended",
     "nuid": "377ffb73-44a4-4e6f-bd06-a847539a1bd6",
     "typedWidgetInfo": {
      "autoCreated": false,
      "defaultValue": "",
      "label": "",
      "name": "schema",
      "options": {
       "widgetDisplayType": "Text",
       "validationRegex": null
      },
      "parameterDataType": "String"
     },
     "widgetInfo": {
      "widgetType": "text",
      "defaultValue": "",
      "label": "",
      "name": "schema",
      "options": {
       "widgetType": "text",
       "autoCreated": false,
       "validationRegex": null
      }
     }
    }
   }
  },
  "language_info": {
   "name": "python"
  }
 },
 "nbformat": 4,
 "nbformat_minor": 0
}
