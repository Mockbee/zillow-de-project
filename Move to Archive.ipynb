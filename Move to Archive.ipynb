{
 "cells": [
  {
   "cell_type": "code",
   "execution_count": 0,
   "metadata": {
    "application/vnd.databricks.v1+cell": {
     "cellMetadata": {
      "byteLimit": 2048000,
      "rowLimit": 10000
     },
     "inputWidgets": {},
     "nuid": "d9ea8eea-61c4-4ac2-9707-411173ebc368",
     "showTitle": false,
     "tableResultSettingsMap": {},
     "title": ""
    }
   },
   "outputs": [],
   "source": [
    "from datetime import datetime\n",
    "\n",
    "# Widgets and secrets\n",
    "container_name = dbutils.widgets.get(\"container_name\")\n",
    "storage_account_key = dbutils.secrets.get(scope = \"zillowsecrets\",key=\"storage_account_key\")\n",
    "archive = dbutils.widgets.get(\"archive\") \n",
    "catalog = dbutils.widgets.get(\"catalog\")\n",
    "storage_account_name = dbutils.widgets.get(\"storage_account_name\")\n",
    "\n",
    "# Configure Spark\n",
    "spark.conf.set(f\"fs.azure.account.key.{storage_account_name}.dfs.core.windows.net\", storage_account_key)\n",
    "\n",
    "# === Define your per-table config here ===\n",
    "table_configs = [\n",
    "    {\n",
    "        \"table\": \"taxhistory_silver\",\n",
    "        \"schema\": \"taxhistory\",\n",
    "        \"source_folder\": \"raw_data/TaxHistory\"\n",
    "    },\n",
    "    {\n",
    "        \"table\": \"pricehistory_silver\",\n",
    "        \"schema\": \"pricehistory\",\n",
    "        \"source_folder\": \"raw_data/PriceHistory\"\n",
    "    },\n",
    "    {\n",
    "        \"table\": \"property_silver\",\n",
    "        \"schema\": \"propertyextended\",\n",
    "        \"source_folder\": \"raw_data/propertyExtendedSearch\"\n",
    "    }\n",
    "]\n",
    "\n",
    "# === Main processing loop ===\n",
    "for config in table_configs:\n",
    "    table = config[\"table\"]\n",
    "    schema = config[\"schema\"]\n",
    "    source_folder = config[\"source_folder\"]\n",
    "\n",
    "    print(f\"\\nProcessing table: {table} from schema: {schema}\")\n",
    "\n",
    "    source_path = f\"abfss://{container_name}@{storage_account_name}.dfs.core.windows.net/{source_folder}\"\n",
    "    archive_path = f\"abfss://{container_name}@{storage_account_name}.dfs.core.windows.net/{archive}/{table}\"\n",
    "\n",
    "    # List files in source folder\n",
    "    try:\n",
    "        items = dbutils.fs.ls(source_path)\n",
    "        loaded_files = [item.name for item in items]\n",
    "        loaded_files_set = set(loaded_files)\n",
    "    except Exception as e:\n",
    "        print(f\"Could not access source folder: {source_path}. Error: {str(e)}\")\n",
    "        continue\n",
    "\n",
    "    # Fetch file names from the current table\n",
    "    try:\n",
    "        df = spark.sql(f\"SELECT DISTINCT(file_name) FROM {catalog}.{schema}.{table}\")\n",
    "        table_files_set = set([row.file_name for row in df.collect()])\n",
    "    except Exception as e:\n",
    "        print(f\"Could not query table: {catalog}.{schema}.{table}. Error: {str(e)}\")\n",
    "        continue\n",
    "\n",
    "    # Determine files to move\n",
    "    files_to_move = loaded_files_set.intersection(table_files_set)\n",
    "\n",
    "    for file_name in files_to_move:\n",
    "        src_file = f\"{source_path}/{file_name}\"\n",
    "        dst_file = f\"{archive_path}/{file_name}\"\n",
    "        try:\n",
    "            dbutils.fs.mv(src_file, dst_file)\n",
    "            print(f\"Moved {file_name} from {source_path} to {archive_path}\")\n",
    "        except Exception as e:\n",
    "            print(f\"Failed to move {file_name}: {str(e)}\")"
   ]
  },
  {
   "cell_type": "code",
   "execution_count": 0,
   "metadata": {
    "application/vnd.databricks.v1+cell": {
     "cellMetadata": {},
     "inputWidgets": {},
     "nuid": "2d73b568-f868-480d-8251-90558f381ec4",
     "showTitle": false,
     "tableResultSettingsMap": {},
     "title": ""
    }
   },
   "outputs": [],
   "source": [
    "dbutils.jobs.taskValues.set(key=\"error\", value=str(e))  # 'e' is the exception"
   ]
  }
 ],
 "metadata": {
  "application/vnd.databricks.v1+notebook": {
   "computePreferences": null,
   "dashboards": [],
   "environmentMetadata": {
    "base_environment": "",
    "environment_version": "2"
   },
   "inputWidgetPreferences": null,
   "language": "python",
   "notebookMetadata": {
    "pythonIndentUnit": 4
   },
   "notebookName": "Move to Archive",
   "widgets": {
    "archive": {
     "currentValue": "archive",
     "nuid": "cc46a639-0e01-45b1-9f93-75bb9897a004",
     "typedWidgetInfo": {
      "autoCreated": false,
      "defaultValue": "",
      "label": "",
      "name": "archive",
      "options": {
       "widgetDisplayType": "Text",
       "validationRegex": null
      },
      "parameterDataType": "String"
     },
     "widgetInfo": {
      "widgetType": "text",
      "defaultValue": "",
      "label": "",
      "name": "archive",
      "options": {
       "widgetType": "text",
       "autoCreated": false,
       "validationRegex": null
      }
     }
    },
    "catalog": {
     "currentValue": "zillow",
     "nuid": "4dfa444a-bab2-43c0-9385-4d155d7a3636",
     "typedWidgetInfo": {
      "autoCreated": false,
      "defaultValue": "",
      "label": "",
      "name": "catalog",
      "options": {
       "widgetDisplayType": "Text",
       "validationRegex": null
      },
      "parameterDataType": "String"
     },
     "widgetInfo": {
      "widgetType": "text",
      "defaultValue": "",
      "label": "",
      "name": "catalog",
      "options": {
       "widgetType": "text",
       "autoCreated": false,
       "validationRegex": null
      }
     }
    },
    "container_name": {
     "currentValue": "zillowcon",
     "nuid": "73977bcd-91ff-4533-aa36-3b94bba0e68c",
     "typedWidgetInfo": {
      "autoCreated": false,
      "defaultValue": "",
      "label": "",
      "name": "container_name",
      "options": {
       "widgetDisplayType": "Text",
       "validationRegex": null
      },
      "parameterDataType": "String"
     },
     "widgetInfo": {
      "widgetType": "text",
      "defaultValue": "",
      "label": "",
      "name": "container_name",
      "options": {
       "widgetType": "text",
       "autoCreated": false,
       "validationRegex": null
      }
     }
    },
    "storage_account_name": {
     "currentValue": "zillowapi",
     "nuid": "11f8a341-e60a-45a7-b132-9e5c06853a36",
     "typedWidgetInfo": {
      "autoCreated": false,
      "defaultValue": "",
      "label": "",
      "name": "storage_account_name",
      "options": {
       "widgetDisplayType": "Text",
       "validationRegex": null
      },
      "parameterDataType": "String"
     },
     "widgetInfo": {
      "widgetType": "text",
      "defaultValue": "",
      "label": "",
      "name": "storage_account_name",
      "options": {
       "widgetType": "text",
       "autoCreated": false,
       "validationRegex": null
      }
     }
    }
   }
  },
  "language_info": {
   "name": "python"
  }
 },
 "nbformat": 4,
 "nbformat_minor": 0
}
