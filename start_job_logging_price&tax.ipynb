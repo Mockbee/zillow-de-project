{
 "cells": [
  {
   "cell_type": "code",
   "execution_count": 0,
   "metadata": {
    "application/vnd.databricks.v1+cell": {
     "cellMetadata": {
      "byteLimit": 2048000,
      "implicitDf": true,
      "rowLimit": 10000
     },
     "inputWidgets": {},
     "nuid": "b0087929-2670-44de-a8ee-073cb87e9d4a",
     "showTitle": false,
     "tableResultSettingsMap": {},
     "title": ""
    }
   },
   "outputs": [],
   "source": [
    "%sql\n",
    "-- Insert a new row into the job_control table\n",
    "INSERT INTO zillow.taxhistory.job_control (\n",
    "    job_name,\n",
    "    job_status,\n",
    "    job_created_date,\n",
    "    start_time,\n",
    "    end_time\n",
    ")\n",
    "VALUES (\n",
    "    'tax&pricepipeline',\n",
    "    'Running',\n",
    "    current_date(),\n",
    "    current_timestamp(),\n",
    "    NULL\n",
    ");\n"
   ]
  },
  {
   "cell_type": "code",
   "execution_count": 0,
   "metadata": {
    "application/vnd.databricks.v1+cell": {
     "cellMetadata": {
      "byteLimit": 2048000,
      "rowLimit": 10000
     },
     "inputWidgets": {},
     "nuid": "968f1d70-5322-444f-978e-fe8f996c73b8",
     "showTitle": false,
     "tableResultSettingsMap": {},
     "title": ""
    }
   },
   "outputs": [],
   "source": [
    "# Get the latest job_id (assuming single job run at a time)\n",
    "job_id = spark.sql(\"\"\"\n",
    "    SELECT MAX(job_id) AS job_id\n",
    "    FROM zillow.taxhistory.job_control\n",
    "\"\"\").collect()[0]['job_id']\n",
    "\n",
    "# Pass job_id to downstream tasks\n",
    "dbutils.jobs.taskValues.set(key=\"job_id\", value=job_id)\n"
   ]
  }
 ],
 "metadata": {
  "application/vnd.databricks.v1+notebook": {
   "computePreferences": null,
   "dashboards": [],
   "environmentMetadata": {
    "base_environment": "",
    "environment_version": "2"
   },
   "inputWidgetPreferences": null,
   "language": "python",
   "notebookMetadata": {
    "mostRecentlyExecutedCommandWithImplicitDF": {
     "commandId": 8371218364835650,
     "dataframes": [
      "_sqldf"
     ]
    },
    "pythonIndentUnit": 4
   },
   "notebookName": "start_job_logging_price&tax",
   "widgets": {}
  },
  "language_info": {
   "name": "python"
  }
 },
 "nbformat": 4,
 "nbformat_minor": 0
}
