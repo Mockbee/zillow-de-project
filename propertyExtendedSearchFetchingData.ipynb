{
 "cells": [
  {
   "cell_type": "code",
   "execution_count": 0,
   "metadata": {
    "application/vnd.databricks.v1+cell": {
     "cellMetadata": {
      "byteLimit": 2048000,
      "rowLimit": 10000
     },
     "inputWidgets": {},
     "nuid": "adc16963-a6c9-4072-8236-4008d03b8032",
     "showTitle": false,
     "tableResultSettingsMap": {},
     "title": ""
    }
   },
   "outputs": [],
   "source": [
    "import requests\n",
    "import json\n",
    "import time\n",
    "from datetime import datetime\n",
    "from typing import Dict, Any, List\n",
    "\n",
    "# Function to extract required fields\n",
    "def extract_core_details(prop: Dict[str, Any]) -> Dict[str, Any]:\n",
    "    try:\n",
    "        return {\n",
    "            \"zpid\": prop.get(\"zpid\"),\n",
    "            \"address\": prop.get(\"address\"),\n",
    "            \"city\": prop.get(\"city\"),\n",
    "            \"state\": prop.get(\"state\"),\n",
    "            \"zipcode\": prop.get(\"zipcode\"),\n",
    "            \"latitude\": prop.get(\"latitude\"),\n",
    "            \"longitude\": prop.get(\"longitude\"),\n",
    "            \"price\": prop.get(\"price\"),\n",
    "            \"zestimate\": prop.get(\"zestimate\"),\n",
    "            \"bedrooms\": prop.get(\"bedrooms\"),\n",
    "            \"bathrooms\": prop.get(\"bathrooms\"),\n",
    "            \"livingAreaValue\": prop.get(\"livingArea\"),\n",
    "            \"yearBuilt\": prop.get(\"yearBuilt\"),\n",
    "            \"homeType\": prop.get(\"homeType\"),\n",
    "            \"description\": prop.get(\"hdpData\", {}).get(\"homeInfo\", {}).get(\"homeDescription\"),\n",
    "            \"imgSrc\": prop.get(\"imgSrc\"),\n",
    "            \"agent_name\": prop.get(\"hdpData\", {}).get(\"homeInfo\", {}).get(\"brokerName\"),\n",
    "            \"agent_phone\": None,\n",
    "            \"datePosted\": None,\n",
    "            \"DateSold\": prop.get(\"hdpData\", {}).get(\"homeInfo\", {}).get(\"dateSold\")\n",
    "        }\n",
    "    except Exception as e:\n",
    "        print(f\"Error extracting details: {e}\")\n",
    "        return None\n",
    "\n",
    "# Main logic\n",
    "try:\n",
    "    url = \"https://zillow-com1.p.rapidapi.com/propertyExtendedSearch\"\n",
    "    querystring = {\"location\": \"Los Angeles, CA\"}\n",
    "    api_key = dbutils.secrets.get(scope=\"zillowsecrets\", key=\"rapidapi_key\")\n",
    "    headers = {\n",
    "        \"x-rapidapi-key\": api_key,\n",
    "        \"x-rapidapi-host\": \"zillow-com1.p.rapidapi.com\"\n",
    "    }\n",
    "\n",
    "    response = requests.get(url, headers=headers, params=querystring)\n",
    "    response.raise_for_status()\n",
    "\n",
    "    core_details_data = []\n",
    "    if response.status_code == 200:\n",
    "        data = response.json()\n",
    "        properties = data.get(\"props\", [])\n",
    "\n",
    "        for prop in properties:\n",
    "            details = extract_core_details(prop)\n",
    "            if details:\n",
    "                core_details_data.append(details)\n",
    "            time.sleep(6)\n",
    "\n",
    "        if core_details_data:\n",
    "            print(f\" Extracted {len(core_details_data)} properties.\")\n",
    "        else:\n",
    "            print(\" No property data found.\")\n",
    "    else:\n",
    "        print(f\"Unexpected status code: {response.status_code}\")\n",
    "except Exception as e:\n",
    "    dbutils.jobs.taskValues.set(key=\"error\", value=str(e))\n",
    "    print(f\" An error occurred during API call: {e}\")\n",
    "    raise\n"
   ]
  },
  {
   "cell_type": "code",
   "execution_count": 0,
   "metadata": {
    "application/vnd.databricks.v1+cell": {
     "cellMetadata": {
      "byteLimit": 2048000,
      "rowLimit": 10000
     },
     "inputWidgets": {},
     "nuid": "e00030a0-4bf2-418a-8e47-050ac7b74ff6",
     "showTitle": false,
     "tableResultSettingsMap": {},
     "title": ""
    }
   },
   "outputs": [],
   "source": [
    "try:\n",
    "    # Widget inputs\n",
    "    container_name = dbutils.widgets.get(\"container_name\")\n",
    "    storage_account_name = dbutils.widgets.get(\"storage_account_name\")\n",
    "    base_folder_name = dbutils.widgets.get(\"base_folder_name\")\n",
    "    main_folder_name = dbutils.widgets.get(\"main_folder_name\")\n",
    "    storage_account_key = dbutils.secrets.get(scope=\"zillowsecrets\", key=\"storage_account_key\")\n",
    "\n",
    "    # Configure access\n",
    "    spark.conf.set(\n",
    "        f\"fs.azure.account.key.{storage_account_name}.dfs.core.windows.net\",\n",
    "        storage_account_key\n",
    "    )\n",
    "\n",
    "    # Construct path\n",
    "    folder_path = f\"abfss://{container_name}@{storage_account_name}.dfs.core.windows.net/{base_folder_name}/{main_folder_name}\"\n",
    "    timestamp = datetime.now().strftime(\"%Y-%m-%d_%H-%M-%S\")\n",
    "    file_name = f\"{timestamp}.json\"\n",
    "    file_path = f\"{folder_path}/{file_name}\"\n",
    "\n",
    "    # Convert to JSON\n",
    "    json_data = json.dumps(core_details_data, indent=2)\n",
    "\n",
    "    # Write to ADLS\n",
    "    dbutils.fs.put(file_path, json_data, overwrite=True)\n",
    "    print(f\" JSON written to: {file_path}\")\n",
    "\n",
    "except Exception as e:\n",
    "    dbutils.jobs.taskValues.set(key=\"error\", value=str(e))\n",
    "    print(f\" An error occurred while saving to ADLS: {e}\")\n",
    "    raise\n"
   ]
  }
 ],
 "metadata": {
  "application/vnd.databricks.v1+notebook": {
   "computePreferences": null,
   "dashboards": [],
   "environmentMetadata": {
    "base_environment": "",
    "environment_version": "2"
   },
   "inputWidgetPreferences": null,
   "language": "python",
   "notebookMetadata": {
    "pythonIndentUnit": 4
   },
   "notebookName": "propertyExtendedSearchFetchingData",
   "widgets": {
    "base_folder_name": {
     "currentValue": "raw_data",
     "nuid": "7b9b553a-ddbe-4510-ae50-f4f4d7a6f017",
     "typedWidgetInfo": {
      "autoCreated": false,
      "defaultValue": "",
      "label": "",
      "name": "base_folder_name",
      "options": {
       "widgetDisplayType": "Text",
       "validationRegex": null
      },
      "parameterDataType": "String"
     },
     "widgetInfo": {
      "widgetType": "text",
      "defaultValue": "",
      "label": "",
      "name": "base_folder_name",
      "options": {
       "widgetType": "text",
       "autoCreated": false,
       "validationRegex": null
      }
     }
    },
    "container_name": {
     "currentValue": "zillowcon",
     "nuid": "991d49b6-bac9-4cc8-97e2-8990817d2fb7",
     "typedWidgetInfo": {
      "autoCreated": false,
      "defaultValue": "",
      "label": "",
      "name": "container_name",
      "options": {
       "widgetDisplayType": "Text",
       "validationRegex": null
      },
      "parameterDataType": "String"
     },
     "widgetInfo": {
      "widgetType": "text",
      "defaultValue": "",
      "label": "",
      "name": "container_name",
      "options": {
       "widgetType": "text",
       "autoCreated": false,
       "validationRegex": null
      }
     }
    },
    "main_folder_name": {
     "currentValue": "propertyExtendedSearch",
     "nuid": "598a1349-9c59-44db-90a5-882de99489d7",
     "typedWidgetInfo": {
      "autoCreated": false,
      "defaultValue": "",
      "label": "",
      "name": "main_folder_name",
      "options": {
       "widgetDisplayType": "Text",
       "validationRegex": null
      },
      "parameterDataType": "String"
     },
     "widgetInfo": {
      "widgetType": "text",
      "defaultValue": "",
      "label": "",
      "name": "main_folder_name",
      "options": {
       "widgetType": "text",
       "autoCreated": false,
       "validationRegex": null
      }
     }
    },
    "storage_account_name": {
     "currentValue": "zillowapi",
     "nuid": "7248ab1b-e138-4fca-a4dc-9a3fffd7688b",
     "typedWidgetInfo": {
      "autoCreated": false,
      "defaultValue": "",
      "label": "",
      "name": "storage_account_name",
      "options": {
       "widgetDisplayType": "Text",
       "validationRegex": null
      },
      "parameterDataType": "String"
     },
     "widgetInfo": {
      "widgetType": "text",
      "defaultValue": "",
      "label": "",
      "name": "storage_account_name",
      "options": {
       "widgetType": "text",
       "autoCreated": false,
       "validationRegex": null
      }
     }
    }
   }
  },
  "language_info": {
   "name": "python"
  }
 },
 "nbformat": 4,
 "nbformat_minor": 0
}
