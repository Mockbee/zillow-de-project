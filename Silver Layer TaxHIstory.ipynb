{
 "cells": [
  {
   "cell_type": "code",
   "execution_count": 0,
   "metadata": {
    "application/vnd.databricks.v1+cell": {
     "cellMetadata": {
      "byteLimit": 2048000,
      "rowLimit": 10000
     },
     "inputWidgets": {},
     "nuid": "501b4716-cb70-44b2-89c0-0023861adb25",
     "showTitle": false,
     "tableResultSettingsMap": {},
     "title": ""
    }
   },
   "outputs": [],
   "source": [
    "catalog = dbutils.widgets.get(\"catalog\")\n",
    "schema = dbutils.widgets.get(\"schema\")"
   ]
  },
  {
   "cell_type": "code",
   "execution_count": 0,
   "metadata": {
    "application/vnd.databricks.v1+cell": {
     "cellMetadata": {
      "byteLimit": 2048000,
      "implicitDf": true,
      "rowLimit": 10000
     },
     "inputWidgets": {},
     "nuid": "f8ad7eec-42c9-469e-ab63-4f71f9891357",
     "showTitle": false,
     "tableResultSettingsMap": {},
     "title": ""
    }
   },
   "outputs": [],
   "source": [
    "%sql\n",
    "MERGE INTO ${catalog}.${schema}.taxhistory_silver as target\n",
    "USING (\n",
    "  SELECT *\n",
    "  FROM (\n",
    "    SELECT *, ROW_NUMBER() OVER (PARTITION BY zpid, year ORDER BY file_name DESC) AS rn\n",
    "    FROM ${catalog}.${schema}.tax_bronze\n",
    "  ) AS deduped\n",
    "  WHERE rn = 1\n",
    ") as source\n",
    "ON target.zpid = source.zpid AND target.year = source.year\n",
    "\n",
    "WHEN MATCHED THEN \n",
    "  UPDATE SET \n",
    "    target.value = source.value,\n",
    "    target.taxPaid = source.taxPaid,\n",
    "    target.valueIncreaseRate = source.valueIncreaseRate,\n",
    "    target.taxIncreaseRate = source.taxIncreaseRate,\n",
    "    target.file_name = source.file_name,\n",
    "    target.Md5_Hash = md5(concat_ws('', source.zpid, source.year, source.value, source.taxPaid, source.valueIncreaseRate, source.taxIncreaseRate, source.file_name))\n",
    "\n",
    "WHEN NOT MATCHED THEN \n",
    "  INSERT (\n",
    "    zpid,\n",
    "    year,\n",
    "    value,\n",
    "    taxPaid,\n",
    "    valueIncreaseRate,\n",
    "    taxIncreaseRate,\n",
    "    file_name,\n",
    "    Md5_Hash\n",
    "  )\n",
    "  VALUES (\n",
    "    source.zpid,\n",
    "    source.year,\n",
    "    source.value,\n",
    "    source.taxPaid,\n",
    "    source.valueIncreaseRate,\n",
    "    source.taxIncreaseRate,\n",
    "    source.file_name,\n",
    "    md5(concat_ws('', source.zpid, source.year, source.value, source.taxPaid, source.valueIncreaseRate, source.taxIncreaseRate, source.file_name))\n",
    "  )\n"
   ]
  },
  {
   "cell_type": "code",
   "execution_count": 0,
   "metadata": {
    "application/vnd.databricks.v1+cell": {
     "cellMetadata": {
      "byteLimit": 2048000,
      "implicitDf": true,
      "rowLimit": 10000
     },
     "inputWidgets": {},
     "nuid": "5cc49037-e0f9-418f-82b8-20fc101c86b1",
     "showTitle": false,
     "tableResultSettingsMap": {},
     "title": ""
    }
   },
   "outputs": [],
   "source": [
    "%sql\n",
    "select * from ${catalog}.${schema}.taxhistory_silver"
   ]
  },
  {
   "cell_type": "code",
   "execution_count": 0,
   "metadata": {
    "application/vnd.databricks.v1+cell": {
     "cellMetadata": {},
     "inputWidgets": {},
     "nuid": "253e86c1-a1ff-4fee-9629-a01eebe5d2aa",
     "showTitle": false,
     "tableResultSettingsMap": {},
     "title": ""
    }
   },
   "outputs": [],
   "source": []
  }
 ],
 "metadata": {
  "application/vnd.databricks.v1+notebook": {
   "computePreferences": null,
   "dashboards": [],
   "environmentMetadata": {
    "base_environment": "",
    "environment_version": "2"
   },
   "inputWidgetPreferences": null,
   "language": "python",
   "notebookMetadata": {
    "mostRecentlyExecutedCommandWithImplicitDF": {
     "commandId": 5983804753792590,
     "dataframes": [
      "_sqldf"
     ]
    },
    "pythonIndentUnit": 4
   },
   "notebookName": "Silver Layer TaxHIstory",
   "widgets": {
    "catalog": {
     "currentValue": "zillow",
     "nuid": "7be3b72d-6698-4899-8520-df74283d02d1",
     "typedWidgetInfo": {
      "autoCreated": false,
      "defaultValue": "",
      "label": "",
      "name": "catalog",
      "options": {
       "widgetDisplayType": "Text",
       "validationRegex": null
      },
      "parameterDataType": "String"
     },
     "widgetInfo": {
      "widgetType": "text",
      "defaultValue": "",
      "label": "",
      "name": "catalog",
      "options": {
       "widgetType": "text",
       "autoCreated": false,
       "validationRegex": null
      }
     }
    },
    "schema": {
     "currentValue": "taxhistory",
     "nuid": "25f7fabc-8682-4d61-8635-a23b0cda692d",
     "typedWidgetInfo": {
      "autoCreated": false,
      "defaultValue": "",
      "label": "",
      "name": "schema",
      "options": {
       "widgetDisplayType": "Text",
       "validationRegex": null
      },
      "parameterDataType": "String"
     },
     "widgetInfo": {
      "widgetType": "text",
      "defaultValue": "",
      "label": "",
      "name": "schema",
      "options": {
       "widgetType": "text",
       "autoCreated": false,
       "validationRegex": null
      }
     }
    }
   }
  },
  "language_info": {
   "name": "python"
  }
 },
 "nbformat": 4,
 "nbformat_minor": 0
}
