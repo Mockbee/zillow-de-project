{
 "cells": [
  {
   "cell_type": "code",
   "execution_count": 0,
   "metadata": {
    "application/vnd.databricks.v1+cell": {
     "cellMetadata": {
      "byteLimit": 2048000,
      "rowLimit": 10000
     },
     "inputWidgets": {},
     "nuid": "715d1f15-8ea3-4160-909b-c040436b15a1",
     "showTitle": false,
     "tableResultSettingsMap": {},
     "title": ""
    }
   },
   "outputs": [],
   "source": [
    "container_name = dbutils.widgets.get(\"container_name\")\n",
    "storage_account_name = dbutils.widgets.get(\"storage_account_name\")\n",
    "storage_account_key = dbutils.secrets.get(scope = \"zillowsecrets\",key=\"storage_account_key\")\n",
    "base_folder_name = dbutils.widgets.get(\"base_folder_name\")\n",
    "main_folder_tax = dbutils.widgets.get(\"main_folder_tax\")\n",
    "catalog = dbutils.widgets.get(\"catalog\")\n",
    "schema = dbutils.widgets.get(\"schema\")\n",
    "\n",
    "# Configure access\n",
    "spark.conf.set(\n",
    "    f\"fs.azure.account.key.{storage_account_name}.dfs.core.windows.net\",\n",
    "    storage_account_key\n",
    ")\n",
    "\n",
    "# Construct base path\n",
    "folder_path = f\"abfss://{container_name}@{storage_account_name}.dfs.core.windows.net/{base_folder_name}/{main_folder_tax}\""
   ]
  },
  {
   "cell_type": "code",
   "execution_count": 0,
   "metadata": {
    "application/vnd.databricks.v1+cell": {
     "cellMetadata": {},
     "inputWidgets": {},
     "nuid": "2dd88087-48c7-431d-92a9-3490abf38fd6",
     "showTitle": false,
     "tableResultSettingsMap": {},
     "title": ""
    }
   },
   "outputs": [],
   "source": [
    "items = dbutils.fs.ls(f'{folder_path}')\n",
    "# loaded_files = [item.name for item in items]\n",
    "if len(dbutils.fs.ls(folder_path)) == 0:\n",
    "    dbutils.jobs.taskValues.set(\"run_now\",\"false\")\n",
    "    dbutils.notebook.exit(\"No new files to process\")\n",
    "else:\n",
    "    print(\"files are available\")\n",
    "    dbutils.jobs.taskValues.set(\"run_now\",\"true\")"
   ]
  },
  {
   "cell_type": "code",
   "execution_count": 0,
   "metadata": {
    "application/vnd.databricks.v1+cell": {
     "cellMetadata": {},
     "inputWidgets": {},
     "nuid": "051e7535-4818-4e51-9eb5-0ba03667b889",
     "showTitle": false,
     "tableResultSettingsMap": {},
     "title": ""
    }
   },
   "outputs": [],
   "source": [
    "# # items = dbutils.fs.ls(f'{folder_path}')\n",
    "# # loaded_files = [item.name for item in items]\n",
    "# if len(dbutils.fs.ls(folder_path)) == 0:\n",
    "#     dbutils.jobs.taskValues.set(\"run_now\",\"false\")\n",
    "#     dbutils.notebook.exit(\"No new files to process\")\n",
    "# else:\n",
    "#     print(\"files are available\")\n",
    "#     dbutils.jobs.taskValues.set(\"run_now\",\"true\")"
   ]
  },
  {
   "cell_type": "code",
   "execution_count": 0,
   "metadata": {
    "application/vnd.databricks.v1+cell": {
     "cellMetadata": {
      "byteLimit": 2048000,
      "rowLimit": 10000
     },
     "inputWidgets": {},
     "nuid": "919b01cd-9a44-4479-9b2c-ce57382e7e23",
     "showTitle": false,
     "tableResultSettingsMap": {},
     "title": ""
    }
   },
   "outputs": [],
   "source": [
    "from pyspark.sql.functions import *\n",
    "from pyspark.sql.types import *\n",
    "\n",
    "spark.conf.set(\n",
    "    f\"fs.azure.account.key.{storage_account_name}.dfs.core.windows.net\",\n",
    "    storage_account_key\n",
    ")\n",
    "StructSchema_tax = StructType([\n",
    "    StructField('zpid',StringType(),True),\n",
    "    StructField('year',StringType(),True),\n",
    "    StructField('value',StringType(),True),\n",
    "    StructField('taxPaid',StringType(),True),\n",
    "    StructField('valueIncreaseRate',StringType(),True),\n",
    "    StructField('taxIncreaseRate',StringType(),True) \n",
    "    ])\n",
    "\n",
    "df = spark.read.schema(StructSchema_tax) \\\n",
    "    .option(\"multiline\",\"true\") \\\n",
    "        .option(\"header\", \"true\") \\\n",
    "        .json(folder_path)\n",
    "\n",
    "display(df)"
   ]
  },
  {
   "cell_type": "code",
   "execution_count": 0,
   "metadata": {
    "application/vnd.databricks.v1+cell": {
     "cellMetadata": {
      "byteLimit": 2048000,
      "rowLimit": 10000
     },
     "inputWidgets": {},
     "nuid": "05b25b6f-da5b-48f0-a566-04b544bc54e3",
     "showTitle": false,
     "tableResultSettingsMap": {},
     "title": ""
    }
   },
   "outputs": [],
   "source": [
    "import urllib.parse\n",
    "decode = udf(lambda x: urllib.parse.unquote(x), StringType())\n",
    "df = df.withColumn(\"file_name\", decode(regexp_extract(input_file_name(), r\"([^/]+$)\", 1)))\n",
    "display(df)"
   ]
  },
  {
   "cell_type": "code",
   "execution_count": 0,
   "metadata": {
    "application/vnd.databricks.v1+cell": {
     "cellMetadata": {
      "byteLimit": 2048000,
      "rowLimit": 10000
     },
     "inputWidgets": {},
     "nuid": "0464fceb-1fe5-4e9c-8901-276677852030",
     "showTitle": false,
     "tableResultSettingsMap": {},
     "title": ""
    }
   },
   "outputs": [],
   "source": [
    "df.write.format('delta').option('mergeSchema','true').mode('append').saveAsTable(f'{catalog}.{schema}.tax_bronze')"
   ]
  },
  {
   "cell_type": "code",
   "execution_count": 0,
   "metadata": {
    "application/vnd.databricks.v1+cell": {
     "cellMetadata": {
      "byteLimit": 2048000,
      "implicitDf": true,
      "rowLimit": 10000
     },
     "inputWidgets": {},
     "nuid": "75ebb1bc-1975-4ff0-b83c-d2323c4f4c57",
     "showTitle": false,
     "tableResultSettingsMap": {},
     "title": ""
    }
   },
   "outputs": [],
   "source": [
    "%sql\n",
    "select * from ${catalog}.${schema}.tax_bronze;"
   ]
  }
 ],
 "metadata": {
  "application/vnd.databricks.v1+notebook": {
   "computePreferences": null,
   "dashboards": [],
   "environmentMetadata": {
    "base_environment": "",
    "environment_version": "2"
   },
   "inputWidgetPreferences": null,
   "language": "python",
   "notebookMetadata": {
    "mostRecentlyExecutedCommandWithImplicitDF": {
     "commandId": 6619893887025369,
     "dataframes": [
      "_sqldf"
     ]
    },
    "pythonIndentUnit": 4
   },
   "notebookName": "Bronze Layer TaxHistory",
   "widgets": {
    "base_folder_name": {
     "currentValue": "raw_data",
     "nuid": "7b92c8b0-8f16-4fe4-9315-cb51dc9aad81",
     "typedWidgetInfo": {
      "autoCreated": false,
      "defaultValue": "",
      "label": "",
      "name": "base_folder_name",
      "options": {
       "widgetDisplayType": "Text",
       "validationRegex": null
      },
      "parameterDataType": "String"
     },
     "widgetInfo": {
      "widgetType": "text",
      "defaultValue": "",
      "label": "",
      "name": "base_folder_name",
      "options": {
       "widgetType": "text",
       "autoCreated": false,
       "validationRegex": null
      }
     }
    },
    "catalog": {
     "currentValue": "zillow",
     "nuid": "cdb35919-9f14-4ab4-86bd-058aa08fe326",
     "typedWidgetInfo": {
      "autoCreated": false,
      "defaultValue": "",
      "label": "",
      "name": "catalog",
      "options": {
       "widgetDisplayType": "Text",
       "validationRegex": null
      },
      "parameterDataType": "String"
     },
     "widgetInfo": {
      "widgetType": "text",
      "defaultValue": "",
      "label": "",
      "name": "catalog",
      "options": {
       "widgetType": "text",
       "autoCreated": false,
       "validationRegex": null
      }
     }
    },
    "container_name": {
     "currentValue": "zillowcon",
     "nuid": "b6a27a7d-d7bf-4cbd-9eb8-d1cd76d07139",
     "typedWidgetInfo": {
      "autoCreated": false,
      "defaultValue": "",
      "label": "",
      "name": "container_name",
      "options": {
       "widgetDisplayType": "Text",
       "validationRegex": null
      },
      "parameterDataType": "String"
     },
     "widgetInfo": {
      "widgetType": "text",
      "defaultValue": "",
      "label": "",
      "name": "container_name",
      "options": {
       "widgetType": "text",
       "autoCreated": false,
       "validationRegex": null
      }
     }
    },
    "main_folder_tax": {
     "currentValue": "TaxHistory",
     "nuid": "9a090d7e-3d50-4f91-aa32-e4410459aae2",
     "typedWidgetInfo": {
      "autoCreated": false,
      "defaultValue": "",
      "label": "",
      "name": "main_folder_tax",
      "options": {
       "widgetDisplayType": "Text",
       "validationRegex": null
      },
      "parameterDataType": "String"
     },
     "widgetInfo": {
      "widgetType": "text",
      "defaultValue": "",
      "label": "",
      "name": "main_folder_tax",
      "options": {
       "widgetType": "text",
       "autoCreated": false,
       "validationRegex": null
      }
     }
    },
    "schema": {
     "currentValue": "taxhistory",
     "nuid": "8f9804b9-1792-481c-9049-bea417db0355",
     "typedWidgetInfo": {
      "autoCreated": false,
      "defaultValue": "",
      "label": "",
      "name": "schema",
      "options": {
       "widgetDisplayType": "Text",
       "validationRegex": null
      },
      "parameterDataType": "String"
     },
     "widgetInfo": {
      "widgetType": "text",
      "defaultValue": "",
      "label": "",
      "name": "schema",
      "options": {
       "widgetType": "text",
       "autoCreated": false,
       "validationRegex": null
      }
     }
    },
    "storage_account_name": {
     "currentValue": "zillowapi",
     "nuid": "e068810b-bc29-4aa6-b8d8-eeac2ee2e79f",
     "typedWidgetInfo": {
      "autoCreated": false,
      "defaultValue": "",
      "label": "",
      "name": "storage_account_name",
      "options": {
       "widgetDisplayType": "Text",
       "validationRegex": null
      },
      "parameterDataType": "String"
     },
     "widgetInfo": {
      "widgetType": "text",
      "defaultValue": "",
      "label": "",
      "name": "storage_account_name",
      "options": {
       "widgetType": "text",
       "autoCreated": false,
       "validationRegex": null
      }
     }
    }
   }
  },
  "language_info": {
   "name": "python"
  }
 },
 "nbformat": 4,
 "nbformat_minor": 0
}
